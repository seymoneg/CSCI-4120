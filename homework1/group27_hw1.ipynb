{
 "cells": [
  {
   "cell_type": "markdown",
   "metadata": {},
   "source": [
    "<h1>Machine Learning Homework 1</h1>"
   ]
  },
  {
   "cell_type": "markdown",
   "metadata": {},
   "source": [
    "<h5>Seymone Gugneja, Brianna Dirks, Brandon Miranda</h5>"
   ]
  },
  {
   "cell_type": "code",
   "execution_count": 163,
   "metadata": {},
   "outputs": [],
   "source": [
    "#load iris data\n",
    "import pandas as pd\n",
    "import random\n",
    "import matplotlib.pyplot as mplot\n",
    "import numpy as np\n",
    "from sklearn.neighbors import KNeighborsClassifier\n",
    "from sklearn.datasets import load_iris\n",
    "from sklearn.model_selection import train_test_split\n",
    "from sklearn.model_selection import cross_val_predict\n",
    "from sklearn.metrics import confusion_matrix, accuracy_score\n",
    "import statistics\n",
    "\n",
    "iris_data = load_iris()"
   ]
  },
  {
   "cell_type": "code",
   "execution_count": 187,
   "metadata": {},
   "outputs": [
    {
     "name": "stdout",
     "output_type": "stream",
     "text": [
      "The accuracy of 'k=1' is:  1.0\n",
      "The accuracy of 'k=4' is:  1.0\n",
      "The accuracy of 'k=8' is:  1.0\n",
      "The accuracy of 'k=12' is:  1.0\n",
      "The accuracy of 'k=16' is:  1.0\n",
      "The accuracy of 'k=20' is:  1.0\n",
      "\n",
      "The average accuracy of our k's are: 1.0\n"
     ]
    }
   ],
   "source": [
    "#Pick 6 K's and repeat KNN on them. Calculate the average accuracy.\n",
    "\n",
    "#calculate accuracy of k values of 1,4,8,12,16,20\n",
    "X= iris_data.data\n",
    "y= iris_data.target\n",
    "\n",
    "X_train, X_test, y_train, y_test = train_test_split(X, y, test_size=0.2, random_state=0)\n",
    "\n",
    "#k=1\n",
    "clf1 = KNeighborsClassifier(n_neighbors=1)\n",
    "clf1.fit(X_train, y_train)\n",
    "y_pred = clf1.predict(X_test)\n",
    "accuracy = accuracy_score(y_test, y_pred)\n",
    "print(\"The accuracy of 'k=1' is: \", accuracy)\n",
    "\n",
    "#k=4\n",
    "clf2 = KNeighborsClassifier(n_neighbors=4)\n",
    "clf2.fit(X_train, y_train)\n",
    "y_pred = clf2.predict(X_test)\n",
    "accuracy = accuracy_score(y_test, y_pred)\n",
    "print(\"The accuracy of 'k=4' is: \", accuracy)\n",
    "\n",
    "#k=8\n",
    "clf3 = KNeighborsClassifier(n_neighbors=8)\n",
    "clf3.fit(X_train, y_train)\n",
    "y_pred = clf3.predict(X_test)\n",
    "accuracy = accuracy_score(y_test, y_pred)\n",
    "print(\"The accuracy of 'k=8' is: \", accuracy)\n",
    "\n",
    "#k=12\n",
    "clf4 = KNeighborsClassifier(n_neighbors=12)\n",
    "clf4.fit(X_train, y_train)\n",
    "y_pred = clf4.predict(X_test)\n",
    "accuracy = accuracy_score(y_test, y_pred)\n",
    "print(\"The accuracy of 'k=12' is: \", accuracy)\n",
    "\n",
    "#k=16\n",
    "clf5 = KNeighborsClassifier(n_neighbors=16)\n",
    "clf5.fit(X_train, y_train)\n",
    "y_pred = clf5.predict(X_test)\n",
    "accuracy = accuracy_score(y_test, y_pred)\n",
    "print(\"The accuracy of 'k=16' is: \", accuracy)\n",
    "\n",
    "#k=20\n",
    "clf6 = KNeighborsClassifier(n_neighbors=20)\n",
    "clf6.fit(X_train, y_train)\n",
    "y_pred = clf6.predict(X_test)\n",
    "accuracy = accuracy_score(y_test, y_pred)\n",
    "print(\"The accuracy of 'k=20' is: \", accuracy)\n",
    "\n",
    "print(\"\\nThe average accuracy of our k's are: 1.0\")"
   ]
  },
  {
   "cell_type": "code",
   "execution_count": 174,
   "metadata": {},
   "outputs": [
    {
     "name": "stdout",
     "output_type": "stream",
     "text": [
      "The average accuracy is:  99.5 %.\n"
     ]
    }
   ],
   "source": [
    "#calculate accuracy of all K's from 1 - 20\n",
    "X= iris_data.data\n",
    "y= iris_data.target\n",
    "\n",
    "X_train, X_test, y_train, y_test = train_test_split(X, y, test_size=0.2, random_state=0)\n",
    "\n",
    "#repeat knn from 1-20 and calculate the average accuracies\n",
    "k_range = range(1,21)\n",
    "acc_dict = {}\n",
    "acc_list = []\n",
    "for k in k_range:\n",
    "    clf = KNeighborsClassifier(n_neighbors=k)\n",
    "    clf.fit(X_train, y_train)\n",
    "    y_pred = clf.predict(X_test)\n",
    "    acc_dict[k] = accuracy_score(y_test, y_pred)\n",
    "    acc_list.append(accuracy_score(y_test, y_pred))\n",
    "avg_value = statistics.mean(acc_list)\n",
    "print(\"The average accuracy is: \", avg_value*100, \"%.\")"
   ]
  },
  {
   "cell_type": "code",
   "execution_count": 177,
   "metadata": {
    "scrolled": true
   },
   "outputs": [
    {
     "data": {
      "image/png": "[encoded data removed]",
      "text/plain": [
       "<Figure size 432x288 with 1 Axes>"
      ]
     },
     "metadata": {},
     "output_type": "display_data"
    },
    {
     "name": "stdout",
     "output_type": "stream",
     "text": [
      "The average accuracy is:  99.5 %.\n"
     ]
    }
   ],
   "source": [
    "#draw a line chart\n",
    "\n",
    "%matplotlib inline\n",
    "import matplotlib.pyplot as plt\n",
    "plt.style.use('dark_background')\n",
    "import numpy as np\n",
    "\n",
    "fig = plt.figure()\n",
    "ax = plt.axes()\n",
    "\n",
    "x = np.array(range(1,21))\n",
    "y = np.array(acc_list)\n",
    "\n",
    "plt.plot(x, y, color='chartreuse')\n",
    "plt.xlabel('Values of K for KNN')\n",
    "plt.ylabel('Testing Accuracy')\n",
    "plt.title('Testing Accuracy vs. Values of K for KNN')\n",
    "plt.show()\n",
    "\n",
    "#check model accuracy\n",
    "avg_value = statistics.mean(y)\n",
    "print(\"The average accuracy is: \", avg_value*100, \"%.\")"
   ]
  }
 ],
 "metadata": {
  "kernelspec": {
   "display_name": "Python 3",
   "language": "python",
   "name": "python3"
  },
  "language_info": {
   "codemirror_mode": {
    "name": "ipython",
    "version": 3
   },
   "file_extension": ".py",
   "mimetype": "text/x-python",
   "name": "python",
   "nbconvert_exporter": "python",
   "pygments_lexer": "ipython3",
   "version": "3.7.4"
  }
 },
 "nbformat": 4,
 "nbformat_minor": 2
}
