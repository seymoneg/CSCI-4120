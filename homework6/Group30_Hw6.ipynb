{
 "cells": [
  {
   "cell_type": "markdown",
   "metadata": {},
   "source": [
    "<h1>Homework 6</h1>"
   ]
  },
  {
   "cell_type": "markdown",
   "metadata": {},
   "source": [
    "<h3>Seymone Gugneja and Michael Trofimov</h3>"
   ]
  },
  {
   "cell_type": "code",
   "execution_count": 9,
   "metadata": {},
   "outputs": [
    {
     "data": {
      "image/png": "[encoded data removed]",
      "text/plain": [
       "<Figure size 720x288 with 40 Axes>"
      ]
     },
     "metadata": {},
     "output_type": "display_data"
    }
   ],
   "source": [
    "#provided code\n",
    "\n",
    "%matplotlib inline\n",
    "import numpy as np\n",
    "import matplotlib.pyplot as plt\n",
    "from scipy import stats\n",
    "\n",
    "# use seaborn plotting defaults\n",
    "import seaborn as sns; sns.set()\n",
    "from sklearn import datasets, svm, metrics\n",
    "\n",
    "\n",
    "# The digits dataset\n",
    "digits = datasets.load_digits()\n",
    "\n",
    "def plot_digits(data):\n",
    "    fig, axes = plt.subplots(4, 10, figsize=(10, 4),\n",
    "                             subplot_kw={'xticks':[], 'yticks':[]},\n",
    "                             gridspec_kw=dict(hspace=0.1, wspace=0.1))\n",
    "    for i, ax in enumerate(axes.flat):\n",
    "        ax.imshow(data[i].reshape(8, 8),\n",
    "                  cmap='binary', interpolation='nearest',\n",
    "                  clim=(0, 16))\n",
    "plot_digits(digits.data)"
   ]
  },
  {
   "cell_type": "code",
   "execution_count": 14,
   "metadata": {},
   "outputs": [
    {
     "name": "stdout",
     "output_type": "stream",
     "text": [
      "Number of features (original) :  64\n",
      "Number of features (reduced) :  51\n"
     ]
    }
   ],
   "source": [
    "#Use PCA to reduce data dimensionality\n",
    "# add labels\n",
    "from sklearn.preprocessing import StandardScaler\n",
    "from sklearn.decomposition import PCA\n",
    "\n",
    "labels = list(zip(digits.images, digits.target))\n",
    "samples = len(digits.images)\n",
    "data = digits.images.reshape((samples, -1))\n",
    "\n",
    "X = StandardScaler().fit_transform(data)\n",
    "\n",
    "z = round(digits.data.shape[1]*.8)\n",
    "pca = PCA(n_components=z, whiten=True)\n",
    "\n",
    "X_pca = pca.fit_transform(X)\n",
    "print('Number of features (original) : ', X.shape[1])\n",
    "print('Number of features (reduced) : ', X_pca.shape[1])"
   ]
  },
  {
   "cell_type": "code",
   "execution_count": 25,
   "metadata": {},
   "outputs": [
    {
     "name": "stdout",
     "output_type": "stream",
     "text": [
      "Fitting 5 folds for each of 10 candidates, totalling 50 fits\n"
     ]
    },
    {
     "name": "stderr",
     "output_type": "stream",
     "text": [
      "[Parallel(n_jobs=1)]: Using backend SequentialBackend with 1 concurrent workers.\n"
     ]
    },
    {
     "name": "stdout",
     "output_type": "stream",
     "text": [
      "The best parameters after RandomSearchCV:  {'kernel': 'linear', 'gamma': 0.1, 'C': 1}\n",
      "The best estimator:  SVC(C=1, cache_size=200, class_weight=None, coef0=0.0,\n",
      "    decision_function_shape='ovr', degree=3, gamma=0.1, kernel='linear',\n",
      "    max_iter=-1, probability=False, random_state=None, shrinking=True,\n",
      "    tol=0.001, verbose=False)\n",
      "Classifier report:\n",
      "              precision    recall  f1-score   support\n",
      "\n",
      "           0       0.96      0.99      0.97        88\n",
      "           1       0.89      0.95      0.91        91\n",
      "           2       0.96      0.95      0.96        86\n",
      "           3       0.92      0.87      0.89        91\n",
      "           4       0.94      0.90      0.92        92\n",
      "           5       0.86      0.93      0.89        91\n",
      "           6       0.93      0.95      0.94        91\n",
      "           7       0.96      0.91      0.94        89\n",
      "           8       0.87      0.84      0.86        88\n",
      "           9       0.88      0.88      0.88        92\n",
      "\n",
      "    accuracy                           0.92       899\n",
      "   macro avg       0.92      0.92      0.92       899\n",
      "weighted avg       0.92      0.92      0.92       899\n",
      "\n",
      " \n"
     ]
    },
    {
     "name": "stderr",
     "output_type": "stream",
     "text": [
      "[Parallel(n_jobs=1)]: Done  50 out of  50 | elapsed:    1.9s finished\n"
     ]
    }
   ],
   "source": [
    "# linear performance\n",
    "from sklearn.model_selection import RandomizedSearchCV\n",
    "from sklearn.svm import SVC\n",
    "\n",
    "parameters = {'C': [0.1,1,10,100],\n",
    "             'gamma': [1,0.1,0.01,0.001,0.0001],\n",
    "             'kernel': ['linear']}\n",
    "\n",
    "grid = RandomizedSearchCV(SVC(), parameters, refit = True, verbose = 1, cv = 5)\n",
    "grid.fit(X_pca[:samples//2], digits.target[:samples//2])\n",
    "\n",
    "#predict value of digit, second half\n",
    "expected = digits.target[samples//2:]\n",
    "predicted = grid.predict(X_pca[samples//2:])\n",
    "\n",
    "print(\"The best parameters after RandomSearchCV: \", grid.best_params_)\n",
    "print(\"The best estimator: \", grid.best_estimator_)\n",
    "print(\"Classifier report:\\n%s\\n \" % (metrics.classification_report(expected, predicted)))\n"
   ]
  },
  {
   "cell_type": "code",
   "execution_count": 18,
   "metadata": {},
   "outputs": [
    {
     "name": "stdout",
     "output_type": "stream",
     "text": [
      "Fitting 5 folds for each of 10 candidates, totalling 50 fits\n"
     ]
    },
    {
     "name": "stderr",
     "output_type": "stream",
     "text": [
      "[Parallel(n_jobs=1)]: Using backend SequentialBackend with 1 concurrent workers.\n"
     ]
    },
    {
     "name": "stdout",
     "output_type": "stream",
     "text": [
      "The best parameters after RandomSearchCV:  {'kernel': 'poly', 'gamma': 0.01, 'C': 100}\n",
      "The best estimator:  SVC(C=100, cache_size=200, class_weight=None, coef0=0.0,\n",
      "    decision_function_shape='ovr', degree=3, gamma=0.01, kernel='poly',\n",
      "    max_iter=-1, probability=False, random_state=None, shrinking=True,\n",
      "    tol=0.001, verbose=False)\n",
      "Classifier report:\n",
      "              precision    recall  f1-score   support\n",
      "\n",
      "           0       0.75      1.00      0.85        88\n",
      "           1       0.92      0.97      0.94        91\n",
      "           2       0.96      0.88      0.92        86\n",
      "           3       0.82      0.93      0.87        91\n",
      "           4       1.00      0.82      0.90        92\n",
      "           5       0.95      0.81      0.88        91\n",
      "           6       0.88      1.00      0.94        91\n",
      "           7       0.93      0.79      0.85        89\n",
      "           8       0.96      0.86      0.91        88\n",
      "           9       0.87      0.87      0.87        92\n",
      "\n",
      "    accuracy                           0.89       899\n",
      "   macro avg       0.90      0.89      0.89       899\n",
      "weighted avg       0.90      0.89      0.89       899\n",
      "\n",
      " \n"
     ]
    },
    {
     "name": "stderr",
     "output_type": "stream",
     "text": [
      "[Parallel(n_jobs=1)]: Done  50 out of  50 | elapsed:    3.9s finished\n"
     ]
    }
   ],
   "source": [
    "# Polynomial performance\n",
    "from sklearn.model_selection import RandomizedSearchCV\n",
    "from sklearn.svm import SVC\n",
    "\n",
    "parameters = {'C': [0.1,1,10,100],\n",
    "             'gamma': [1,0.1,0.01,0.001,0.0001],\n",
    "             'kernel': ['poly']}\n",
    "\n",
    "grid = RandomizedSearchCV(SVC(), parameters, refit = True, verbose = 1, cv = 5)\n",
    "grid.fit(X_pca[:samples//2], digits.target[:samples//2])\n",
    "\n",
    "#predict value of digit, second half\n",
    "expected = digits.target[samples//2:]\n",
    "predicted = grid.predict(X_pca[samples//2:])\n",
    "\n",
    "print(\"The best parameters after RandomSearchCV: \", grid.best_params_)\n",
    "print(\"The best estimator: \", grid.best_estimator_)\n",
    "print(\"Classifier report:\\n%s\\n \" % (metrics.classification_report(expected, predicted)))\n"
   ]
  },
  {
   "cell_type": "code",
   "execution_count": 19,
   "metadata": {},
   "outputs": [
    {
     "name": "stdout",
     "output_type": "stream",
     "text": [
      "Fitting 5 folds for each of 10 candidates, totalling 50 fits\n"
     ]
    },
    {
     "name": "stderr",
     "output_type": "stream",
     "text": [
      "[Parallel(n_jobs=1)]: Using backend SequentialBackend with 1 concurrent workers.\n"
     ]
    },
    {
     "name": "stdout",
     "output_type": "stream",
     "text": [
      "The best parameters after RandomSearchCV:  {'kernel': 'rbf', 'gamma': 0.01, 'C': 10}\n",
      "The best estimator:  SVC(C=10, cache_size=200, class_weight=None, coef0=0.0,\n",
      "    decision_function_shape='ovr', degree=3, gamma=0.01, kernel='rbf',\n",
      "    max_iter=-1, probability=False, random_state=None, shrinking=True,\n",
      "    tol=0.001, verbose=False)\n",
      "Classifier report:\n",
      "              precision    recall  f1-score   support\n",
      "\n",
      "           0       0.98      0.99      0.98        88\n",
      "           1       0.94      0.96      0.95        91\n",
      "           2       0.96      0.95      0.96        86\n",
      "           3       0.99      0.84      0.90        91\n",
      "           4       0.87      0.91      0.89        92\n",
      "           5       0.89      0.96      0.92        91\n",
      "           6       0.98      0.92      0.95        91\n",
      "           7       0.95      0.97      0.96        89\n",
      "           8       0.92      0.90      0.91        88\n",
      "           9       0.90      0.95      0.92        92\n",
      "\n",
      "    accuracy                           0.93       899\n",
      "   macro avg       0.94      0.93      0.93       899\n",
      "weighted avg       0.94      0.93      0.93       899\n",
      "\n",
      " \n"
     ]
    },
    {
     "name": "stderr",
     "output_type": "stream",
     "text": [
      "[Parallel(n_jobs=1)]: Done  50 out of  50 | elapsed:    3.9s finished\n",
      "/Users/seymonegugneja/opt/anaconda3/lib/python3.7/site-packages/sklearn/model_selection/_search.py:814: DeprecationWarning: The default of the `iid` parameter will change from True to False in version 0.22 and will be removed in 0.24. This will change numeric results when test-set sizes are unequal.\n",
      "  DeprecationWarning)\n"
     ]
    }
   ],
   "source": [
    "# radial performance\n",
    "from sklearn.model_selection import RandomizedSearchCV\n",
    "from sklearn.svm import SVC\n",
    "\n",
    "parameters = {'C': [0.1,1,10,100],\n",
    "             'gamma': [1,0.1,0.01,0.001,0.0001],\n",
    "             'kernel': ['rbf']}\n",
    "\n",
    "grid = RandomizedSearchCV(SVC(), parameters, refit = True, verbose = 1, cv = 5)\n",
    "grid.fit(X_pca[:samples//2], digits.target[:samples//2])\n",
    "\n",
    "#predict value of digit, second half\n",
    "expected = digits.target[samples//2:]\n",
    "predicted = grid.predict(X_pca[samples//2:])\n",
    "\n",
    "print(\"The best parameters after RandomSearchCV: \", grid.best_params_)\n",
    "print(\"The best estimator: \", grid.best_estimator_)\n",
    "print(\"Classifier report:\\n%s\\n \" % (metrics.classification_report(expected, predicted)))\n"
   ]
  },
  {
   "cell_type": "markdown",
   "metadata": {},
   "source": [
    "The best model is radial performance, with a 93% accuracy score.\n",
    "The second best model is linear performance with a 92% accuracy score.\n",
    "The worst model is polynomial performance with a 89% accuracy score."
   ]
  },
  {
   "cell_type": "code",
   "execution_count": null,
   "metadata": {},
   "outputs": [],
   "source": []
  }
 ],
 "metadata": {
  "kernelspec": {
   "display_name": "Python 3",
   "language": "python",
   "name": "python3"
  },
  "language_info": {
   "codemirror_mode": {
    "name": "ipython",
    "version": 3
   },
   "file_extension": ".py",
   "mimetype": "text/x-python",
   "name": "python",
   "nbconvert_exporter": "python",
   "pygments_lexer": "ipython3",
   "version": "3.7.4"
  }
 },
 "nbformat": 4,
 "nbformat_minor": 2
}
